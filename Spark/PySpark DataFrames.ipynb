{
 "cells": [
  {
   "cell_type": "code",
   "execution_count": 1,
   "id": "ce424455-481a-494e-a082-5ab1c05c1315",
   "metadata": {},
   "outputs": [],
   "source": [
    "import os\n",
    "os.environ[\"JAVA_HOME\"] = \"C://Program Files//Java//jdk-11\"\n",
    "os.environ[\"SPARK_HOME\"] = \"C://Program Files//Spark//spark-3.5.5-bin-hadoop3\""
   ]
  },
  {
   "cell_type": "code",
   "execution_count": 2,
   "id": "0abe49fa-119e-4c4b-87ac-97ab2c41c158",
   "metadata": {},
   "outputs": [],
   "source": [
    "from pyspark.sql import SparkSession"
   ]
  },
  {
   "cell_type": "code",
   "execution_count": 3,
   "id": "c6dee62a-3958-44e6-86d8-0ebd3260d81d",
   "metadata": {},
   "outputs": [],
   "source": [
    "spark = SparkSession.builder.appName('Practice').getOrCreate()"
   ]
  },
  {
   "cell_type": "code",
   "execution_count": 39,
   "id": "7cf8e197-71a2-4cf6-bf15-d2d0d73dc1e6",
   "metadata": {},
   "outputs": [],
   "source": [
    "## READ\n",
    "df = spark.read.options(header=True).csv('user.csv')"
   ]
  },
  {
   "cell_type": "code",
   "execution_count": 40,
   "id": "37748a74-5144-4bc6-a581-6f560676338c",
   "metadata": {},
   "outputs": [
    {
     "name": "stdout",
     "output_type": "stream",
     "text": [
      "root\n",
      " |-- ID: string (nullable = true)\n",
      " |-- Name: string (nullable = true)\n",
      " |-- Age: string (nullable = true)\n",
      " |-- Experience: string (nullable = true)\n",
      " |-- Salary: string (nullable = true)\n",
      " |-- Education: string (nullable = true)\n",
      "\n"
     ]
    }
   ],
   "source": [
    "## SCHEMA\n",
    "df.printSchema()"
   ]
  },
  {
   "cell_type": "code",
   "execution_count": 41,
   "id": "4d2dce7c-9036-42e8-9208-e3ebf419631e",
   "metadata": {},
   "outputs": [
    {
     "name": "stdout",
     "output_type": "stream",
     "text": [
      "+---+--------+\n",
      "| ID|    Name|\n",
      "+---+--------+\n",
      "|  1| Oswaldo|\n",
      "|  2|   Edgar|\n",
      "|  3|  Manuel|\n",
      "|  4| Esteban|\n",
      "|  5|Fernanda|\n",
      "|  6|   Maria|\n",
      "|  7|   Oscar|\n",
      "|  8|   Cesar|\n",
      "+---+--------+\n",
      "\n"
     ]
    }
   ],
   "source": [
    "# df.select(['ID', 'Name']).show()\n",
    "df.select(df.columns[:2]).show()"
   ]
  },
  {
   "cell_type": "code",
   "execution_count": 42,
   "id": "2626396a-425d-48e9-87d3-46237bd7677d",
   "metadata": {},
   "outputs": [
    {
     "name": "stdout",
     "output_type": "stream",
     "text": [
      "+-------+-----------------+-------+-----------------+------------------+-----------------+----------+\n",
      "|summary|               ID|   Name|              Age|        Experience|           Salary| Education|\n",
      "+-------+-----------------+-------+-----------------+------------------+-----------------+----------+\n",
      "|  count|                8|      8|                8|                 8|                5|         6|\n",
      "|   mean|              4.5|   NULL|           32.375|             5.375|          30400.0|      NULL|\n",
      "| stddev|2.449489742783178|   NULL|8.895223437328598|3.2923070504261465|12778.88884058391|      NULL|\n",
      "|    min|                1|  Cesar|               22|                10|            15000| Doctorate|\n",
      "|    max|                8|Oswaldo|               50|                 7|            45000|University|\n",
      "+-------+-----------------+-------+-----------------+------------------+-----------------+----------+\n",
      "\n"
     ]
    }
   ],
   "source": [
    "df.describe().show()"
   ]
  },
  {
   "cell_type": "code",
   "execution_count": 43,
   "id": "eccff6a9-ad3e-4a68-8cc7-aa624feabe4a",
   "metadata": {},
   "outputs": [],
   "source": [
    "## Adding columns\n",
    "\n",
    "df = df.withColumn('ExperienceCost', df['Salary'] / df['Experience'])"
   ]
  },
  {
   "cell_type": "code",
   "execution_count": 53,
   "id": "1004c2ef-707f-4bc4-94ee-fb89321e4667",
   "metadata": {},
   "outputs": [
    {
     "name": "stdout",
     "output_type": "stream",
     "text": [
      "+---+--------+---+----------+------+----------+-----------------+\n",
      "| ID|    Name|Age|Experience|Salary| Education|   ExperienceCost|\n",
      "+---+--------+---+----------+------+----------+-----------------+\n",
      "|  1| Oswaldo| 25|         4| 40000|University|          10000.0|\n",
      "|  2|   Edgar| 40|        10| 45000|HighSchool|           4500.0|\n",
      "|  3|  Manuel| 30|         5| 20000|      NULL|           4000.0|\n",
      "|  4| Esteban| 22|         2| 15000|University|           7500.0|\n",
      "|  5|Fernanda| 33|         7| 32000|University|4571.428571428572|\n",
      "|  6|   Maria| 30|         3|  NULL| Doctorate|             NULL|\n",
      "|  7|   Oscar| 50|        10|  NULL|      NULL|             NULL|\n",
      "|  8|   Cesar| 29|         2|  NULL| Doctorate|             NULL|\n",
      "+---+--------+---+----------+------+----------+-----------------+\n",
      "\n"
     ]
    }
   ],
   "source": [
    "df.show()"
   ]
  },
  {
   "cell_type": "code",
   "execution_count": 63,
   "id": "5548cb0f-9faf-406b-bbaf-db7dd9f9c67d",
   "metadata": {},
   "outputs": [
    {
     "name": "stdout",
     "output_type": "stream",
     "text": [
      "+---+--------+---+----------+------+----------+-----------------+\n",
      "| ID|    Name|Age|Experience|Salary| Education|   ExperienceCost|\n",
      "+---+--------+---+----------+------+----------+-----------------+\n",
      "|  1| Oswaldo| 25|         4| 40000|University|          10000.0|\n",
      "|  2|   Edgar| 40|        10| 45000|HighSchool|           4500.0|\n",
      "|  3|  Manuel| 30|         5| 20000|      NULL|           4000.0|\n",
      "|  4| Esteban| 22|         2| 15000|University|           7500.0|\n",
      "|  5|Fernanda| 33|         7| 32000|University|4571.428571428572|\n",
      "+---+--------+---+----------+------+----------+-----------------+\n",
      "\n"
     ]
    }
   ],
   "source": [
    "### Dropping columns\n",
    "\n",
    "# df = df.drop('Experience')\n",
    "\n",
    "df.dropna(thresh=6).show()"
   ]
  },
  {
   "cell_type": "code",
   "execution_count": 38,
   "id": "39d0380c-a5bb-4992-8fbc-0afb722d6665",
   "metadata": {},
   "outputs": [
    {
     "name": "stdout",
     "output_type": "stream",
     "text": [
      "+---+---------+---+\n",
      "| ID|FirstName|Age|\n",
      "+---+---------+---+\n",
      "|  1|  Oswaldo| 25|\n",
      "|  2|    Edgar| 40|\n",
      "|  3|   Manuel| 30|\n",
      "+---+---------+---+\n",
      "\n"
     ]
    }
   ],
   "source": [
    "### Rename Column Name\n",
    "df = df.withColumnRenamed('Name', 'FirstName')\n",
    "df.show()"
   ]
  },
  {
   "cell_type": "code",
   "execution_count": null,
   "id": "e9574241-1d68-41a6-8a6f-30551acf1a66",
   "metadata": {},
   "outputs": [],
   "source": []
  }
 ],
 "metadata": {
  "kernelspec": {
   "display_name": "Python 3 (ipykernel)",
   "language": "python",
   "name": "python3"
  },
  "language_info": {
   "codemirror_mode": {
    "name": "ipython",
    "version": 3
   },
   "file_extension": ".py",
   "mimetype": "text/x-python",
   "name": "python",
   "nbconvert_exporter": "python",
   "pygments_lexer": "ipython3",
   "version": "3.13.2"
  }
 },
 "nbformat": 4,
 "nbformat_minor": 5
}
